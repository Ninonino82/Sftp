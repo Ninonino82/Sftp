{
  "nbformat": 4,
  "nbformat_minor": 0,
  "metadata": {
    "colab": {
      "provenance": [],
      "mount_file_id": "1yhknobsRJY_5Z8UaYWr-cT5VbFdMiTqP",
      "authorship_tag": "ABX9TyM7omVsnuzx9jo/rSq2uJTh",
      "include_colab_link": true
    },
    "kernelspec": {
      "name": "python3",
      "display_name": "Python 3"
    },
    "language_info": {
      "name": "python"
    }
  },
  "cells": [
    {
      "cell_type": "markdown",
      "metadata": {
        "id": "view-in-github",
        "colab_type": "text"
      },
      "source": [
        "<a href=\"https://colab.research.google.com/github/Ninonino82/Sftp/blob/main/Sftp.ipynb\" target=\"_parent\"><img src=\"https://colab.research.google.com/assets/colab-badge.svg\" alt=\"Open In Colab\"/></a>"
      ]
    },
    {
      "cell_type": "code",
      "execution_count": null,
      "metadata": {
        "id": "YdjP32TrYtER",
        "colab": {
          "base_uri": "https://localhost:8080/",
          "height": 862
        },
        "outputId": "02c3df95-6d5b-4d5b-af03-b83021b57bca"
      },
      "outputs": [
        {
          "output_type": "stream",
          "name": "stdout",
          "text": [
            "Requirement already satisfied: paramiko in /usr/local/lib/python3.11/dist-packages (3.5.1)\n",
            "Requirement already satisfied: bcrypt>=3.2 in /usr/local/lib/python3.11/dist-packages (from paramiko) (4.2.1)\n",
            "Requirement already satisfied: cryptography>=3.3 in /usr/local/lib/python3.11/dist-packages (from paramiko) (43.0.3)\n",
            "Requirement already satisfied: pynacl>=1.5 in /usr/local/lib/python3.11/dist-packages (from paramiko) (1.5.0)\n",
            "Requirement already satisfied: cffi>=1.12 in /usr/local/lib/python3.11/dist-packages (from cryptography>=3.3->paramiko) (1.17.1)\n",
            "Requirement already satisfied: pycparser in /usr/local/lib/python3.11/dist-packages (from cffi>=1.12->cryptography>=3.3->paramiko) (2.22)\n"
          ]
        },
        {
          "output_type": "error",
          "ename": "KeyboardInterrupt",
          "evalue": "Interrupted by user",
          "traceback": [
            "\u001b[0;31m---------------------------------------------------------------------------\u001b[0m",
            "\u001b[0;31mKeyboardInterrupt\u001b[0m                         Traceback (most recent call last)",
            "\u001b[0;32m<ipython-input-4-c9cf756e4d32>\u001b[0m in \u001b[0;36m<cell line: 0>\u001b[0;34m()\u001b[0m\n\u001b[1;32m     49\u001b[0m \u001b[0;34m\u001b[0m\u001b[0m\n\u001b[1;32m     50\u001b[0m \u001b[0;31m# Parametri di connessione SFTP (da chiedere all'utente)\u001b[0m\u001b[0;34m\u001b[0m\u001b[0;34m\u001b[0m\u001b[0m\n\u001b[0;32m---> 51\u001b[0;31m \u001b[0mhost\u001b[0m \u001b[0;34m=\u001b[0m \u001b[0minput\u001b[0m\u001b[0;34m(\u001b[0m\u001b[0;34m\"Inserisci l'indirizzo del server SFTP (es. host.esempio.com): \"\u001b[0m\u001b[0;34m)\u001b[0m\u001b[0;34m\u001b[0m\u001b[0;34m\u001b[0m\u001b[0m\n\u001b[0m\u001b[1;32m     52\u001b[0m \u001b[0mport\u001b[0m \u001b[0;34m=\u001b[0m \u001b[0mint\u001b[0m\u001b[0;34m(\u001b[0m\u001b[0minput\u001b[0m\u001b[0;34m(\u001b[0m\u001b[0;34m\"Inserisci la porta del server SFTP (es. 22): \"\u001b[0m\u001b[0;34m)\u001b[0m\u001b[0;34m)\u001b[0m\u001b[0;34m\u001b[0m\u001b[0;34m\u001b[0m\u001b[0m\n\u001b[1;32m     53\u001b[0m \u001b[0musername\u001b[0m \u001b[0;34m=\u001b[0m \u001b[0minput\u001b[0m\u001b[0;34m(\u001b[0m\u001b[0;34m\"Inserisci il tuo username SFTP: \"\u001b[0m\u001b[0;34m)\u001b[0m\u001b[0;34m\u001b[0m\u001b[0;34m\u001b[0m\u001b[0m\n",
            "\u001b[0;32m/usr/local/lib/python3.11/dist-packages/ipykernel/kernelbase.py\u001b[0m in \u001b[0;36mraw_input\u001b[0;34m(self, prompt)\u001b[0m\n\u001b[1;32m   1175\u001b[0m                 \u001b[0;34m\"raw_input was called, but this frontend does not support input requests.\"\u001b[0m\u001b[0;34m\u001b[0m\u001b[0;34m\u001b[0m\u001b[0m\n\u001b[1;32m   1176\u001b[0m             )\n\u001b[0;32m-> 1177\u001b[0;31m         return self._input_request(\n\u001b[0m\u001b[1;32m   1178\u001b[0m             \u001b[0mstr\u001b[0m\u001b[0;34m(\u001b[0m\u001b[0mprompt\u001b[0m\u001b[0;34m)\u001b[0m\u001b[0;34m,\u001b[0m\u001b[0;34m\u001b[0m\u001b[0;34m\u001b[0m\u001b[0m\n\u001b[1;32m   1179\u001b[0m             \u001b[0mself\u001b[0m\u001b[0;34m.\u001b[0m\u001b[0m_parent_ident\u001b[0m\u001b[0;34m[\u001b[0m\u001b[0;34m\"shell\"\u001b[0m\u001b[0;34m]\u001b[0m\u001b[0;34m,\u001b[0m\u001b[0;34m\u001b[0m\u001b[0;34m\u001b[0m\u001b[0m\n",
            "\u001b[0;32m/usr/local/lib/python3.11/dist-packages/ipykernel/kernelbase.py\u001b[0m in \u001b[0;36m_input_request\u001b[0;34m(self, prompt, ident, parent, password)\u001b[0m\n\u001b[1;32m   1217\u001b[0m             \u001b[0;32mexcept\u001b[0m \u001b[0mKeyboardInterrupt\u001b[0m\u001b[0;34m:\u001b[0m\u001b[0;34m\u001b[0m\u001b[0;34m\u001b[0m\u001b[0m\n\u001b[1;32m   1218\u001b[0m                 \u001b[0;31m# re-raise KeyboardInterrupt, to truncate traceback\u001b[0m\u001b[0;34m\u001b[0m\u001b[0;34m\u001b[0m\u001b[0m\n\u001b[0;32m-> 1219\u001b[0;31m                 \u001b[0;32mraise\u001b[0m \u001b[0mKeyboardInterrupt\u001b[0m\u001b[0;34m(\u001b[0m\u001b[0;34m\"Interrupted by user\"\u001b[0m\u001b[0;34m)\u001b[0m \u001b[0;32mfrom\u001b[0m \u001b[0;32mNone\u001b[0m\u001b[0;34m\u001b[0m\u001b[0;34m\u001b[0m\u001b[0m\n\u001b[0m\u001b[1;32m   1220\u001b[0m             \u001b[0;32mexcept\u001b[0m \u001b[0mException\u001b[0m\u001b[0;34m:\u001b[0m\u001b[0;34m\u001b[0m\u001b[0;34m\u001b[0m\u001b[0m\n\u001b[1;32m   1221\u001b[0m                 \u001b[0mself\u001b[0m\u001b[0;34m.\u001b[0m\u001b[0mlog\u001b[0m\u001b[0;34m.\u001b[0m\u001b[0mwarning\u001b[0m\u001b[0;34m(\u001b[0m\u001b[0;34m\"Invalid Message:\"\u001b[0m\u001b[0;34m,\u001b[0m \u001b[0mexc_info\u001b[0m\u001b[0;34m=\u001b[0m\u001b[0;32mTrue\u001b[0m\u001b[0;34m)\u001b[0m\u001b[0;34m\u001b[0m\u001b[0;34m\u001b[0m\u001b[0m\n",
            "\u001b[0;31mKeyboardInterrupt\u001b[0m: Interrupted by user"
          ]
        }
      ],
      "source": [
        "!pip install paramiko\n",
        "import paramiko\n",
        "import os\n",
        "import stat\n",
        "from datetime import datetime\n",
        "\n",
        "def scarica_file_txt_per_data(host, port, username, password, remote_path, data_desiderata, local_path):\n",
        "    \"\"\"\n",
        "    Questa funzione si connette a un server SFTP e scarica i file TXT\n",
        "    la cui data di modifica corrisponde alla data specificata.\n",
        "    \"\"\"\n",
        "    try:\n",
        "        # 1. Connessione al server SFTP\n",
        "        transport = paramiko.Transport((host, port))\n",
        "        transport.connect(username=username, password=password)\n",
        "        sftp = paramiko.SFTPClient.from_transport(transport)\n",
        "\n",
        "        # 2. Download dei file TXT per data\n",
        "        data_formattata = data_desiderata.replace(\"-\", \"\")  # Formato AAAAMMDD\n",
        "\n",
        "        for filename in sftp.listdir(remote_path):\n",
        "            if filename.endswith(\".txt\"):  # Considera solo i file TXT\n",
        "                try:\n",
        "                    # Ottieni la data di modifica del file (timestamp Unix)\n",
        "                    file_attr = sftp.stat(f\"{remote_path}/{filename}\")\n",
        "                    mod_time = file_attr.st_mtime\n",
        "\n",
        "                    # Converti il timestamp in data e confronta\n",
        "                    data_modifica = datetime.fromtimestamp(mod_time).strftime('%Y%m%d')\n",
        "\n",
        "                    if data_modifica == data_formattata:\n",
        "                        remote_file_path = f\"{remote_path}/{filename}\"\n",
        "                        local_file_path = f\"{local_path}/{filename}\"\n",
        "\n",
        "                        sftp.get(remote_file_path, local_file_path)\n",
        "                        print(f\"File '{filename}' scaricato con successo in '{local_path}'\")\n",
        "\n",
        "                except Exception as e:\n",
        "                    print(f\"Errore durante l'elaborazione del file '{filename}': {e}\")\n",
        "\n",
        "        # 3. Chiusura della connessione SFTP\n",
        "        sftp.close()\n",
        "        transport.close()\n",
        "\n",
        "        return \"Download completato.\"\n",
        "\n",
        "    except Exception as e:\n",
        "        return f\"Si è verificato un errore durante il download: {e}\"\n",
        "\n",
        "# Parametri di connessione SFTP (da chiedere all'utente)\n",
        "host = input(\"Inserisci l'indirizzo del server SFTP (es. host.esempio.com): \")\n",
        "port = int(input(\"Inserisci la porta del server SFTP (es. 22): \"))\n",
        "username = input(\"Inserisci il tuo username SFTP: \")\n",
        "password = input(\"Inserisci la tua password SFTP: \")\n",
        "remote_path = input(\"Inserisci il percorso della cartella remota (es. /var/www/html): \")\n",
        "\n",
        "# Data desiderata (da chiedere all'utente)\n",
        "data_desiderata = input(\"Inserisci la data desiderata (formato AAAA-MM-GG): \")\n",
        "\n",
        "# Percorso locale dove salvare i file (da chiedere all'utente)\n",
        "local_path = input(\"Inserisci il percorso della cartella locale dove salvare i file: \")\n",
        "\n",
        "# Esegui la funzione\n",
        "risultato = scarica_file_txt_per_data(host, port, username, password, remote_path, data_desiderata, local_path)\n",
        "\n",
        "# Stampa il risultato\n",
        "print(risultato)"
      ]
    }
  ]
}